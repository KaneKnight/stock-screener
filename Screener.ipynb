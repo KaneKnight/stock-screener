{
 "cells": [
  {
   "cell_type": "markdown",
   "metadata": {},
   "source": [
    "# Stock Screener\n",
    "\n",
    "### This notebook is intended to help get a centralized view of important statistics for stocks of companies."
   ]
  },
  {
   "cell_type": "markdown",
   "metadata": {},
   "source": [
    "### 1. Imports\n",
    "We begin with all the imports we will need for analysis."
   ]
  },
  {
   "cell_type": "code",
   "execution_count": 2,
   "metadata": {},
   "outputs": [],
   "source": [
    "import pickle\n",
    "import os\n",
    "import pandas as pd\n",
    "import requests\n",
    "from bs4 import BeautifulSoup"
   ]
  },
  {
   "cell_type": "markdown",
   "metadata": {},
   "source": [
    "### 2. Getting tickers for gold stocks."
   ]
  },
  {
   "cell_type": "code",
   "execution_count": 10,
   "metadata": {},
   "outputs": [
    {
     "name": "stdout",
     "output_type": "stream",
     "text": [
      "['NEM', 'ABX', 'FNV.TO', 'NCM.AX', 'GG', 'AEM', 'KGC', 'RGLD', 'RRS.L', 'FRES.L', 'AGG.AX', 'EVN.AX', 'GFI', 'BTO.TO', 'YRI.TO', 'IMG.TO', 'AGI.TO', 'CEY.L', 'PVG', 'DGC.TO', 'NGD.TO', 'RRL.AX', 'OGC.TO', 'SBM.AX', 'CG.TO', 'EDV.TO', 'NG.TO', 'ELD.TO', 'SAR.AX', 'SMF.TO', 'HMY', 'TXG.TO', 'CGG.TO', 'NSU.TO', 'GUY.TO', 'RSG.AX', 'SEA.TO', 'MUX', 'RIC', 'PG.TO', 'OSK.TO', 'ALIAF', 'CNL.TO', 'GOR.AX', 'POG.L', 'DNA.TO', 'GSS', 'PAF.L', 'AR.TO', 'PRU.AX', 'TBR.AX', 'BGM.V', 'TGZ.TO', 'SBB.TO', 'PRH.AX', 'GORO', 'WDO.TO', 'HRT.TO', 'WAF.AX', 'VIT.V', 'AOT.V', 'NGQ.TO', 'BDR.AX', 'HUM.L', 'RMS.AX', 'SLR.AX', 'BSX.TO', 'GCY.AX', 'KOR.TO', 'MOZ.TO', 'GBU.TO', 'BTR.V', 'HRR.AX', 'PRB.V', 'ALK.AX', 'HAS.AX', 'R.TO', 'RPM.V', 'ARZ.TO', 'JAG.TO', 'MAX.TO', 'TNG.AX', 'PEN.AX', 'CAL.TO', 'TLG.AX', 'RUP.V', 'GGP.L', 'AAL.V', 'KCN.AX', 'ITH.TO', 'MML.AX', 'GGG.AX', 'VGZ', 'ARU.V', 'RMX.TO', 'QBL.AX', 'TSG.L', 'ATC.V', 'KGL.AX', 'TML.TO', 'IMA.AX', 'DRM.AX', 'RED.AX', 'MTO.V', 'DGR.AX', 'MRC.AX', 'DNG.TO', 'LIO.V', 'GME.AX', 'LEG.AX', 'BAR.TO', 'ATM.V', 'EAR.AX', 'KRM.AX', 'FML.AX', 'ORN.AX', 'ER.TO', 'LEX.TO', 'RGD.V', 'RBX.V', 'LYD.TO', 'TXR.V', 'DEG.AX', 'TAM.AX', 'NGY.AX', 'CHN.AX', 'GRR.V', 'LG.V', 'GSR.V', 'TRY.AX', 'TNX.TO', 'TLM.AX', 'ME.TO', 'MJS.V', 'GCM.TO', 'BSR.AX', 'RTG.TO', 'CAY.AX', 'KTN.V', 'MRP.AX', 'ARE.AX', 'FSY.TO', 'TON.AX', 'SRB.L', 'BCN.AX', 'TSG.V', 'MAT.AX', 'IRC.AX', 'ERM.AX', 'ORV.TO', 'HMX.V', 'NGE.V', 'SPA.V', 'ABU.AX', 'MAW.TO', 'MNR.TO', 'ANX.TO', 'SKE.V', 'AAU.L', 'WHY.V', 'NAG.AX', 'GRG.V', 'GQC.V', 'AAR.AX', 'AGC.V', 'HAW.AX', 'RUG.V', 'ECR.V', 'SIH.AX', 'SMC.AX', 'GLN.AX', 'GQM.TO', 'GDP.L', 'SAU.TO', 'MMV.V', 'RN.TO', 'GAL.V', 'MMY.V', 'CAS.AX', 'LPK.V', 'GWR.AX', 'REX.V', 'CLH.V', 'KG.V', 'AAB.TO', 'IAU.AX', 'AGG.V', 'BAR.AX', 'DRA.AX', 'OGR.V', 'AGD.V', 'DGO.AX', 'WDG.V', 'WKM.V', 'BAA.TO', 'ANK.V', 'P.TO', 'AZX.V', 'RRI.V', 'GWA.V', 'MC.V', 'BRZ.V', 'JPR.AX', 'CRB.AX', 'SWA.V', 'PJX.V', 'OOO.V', 'AZM.AX', 'AOM.AX', 'RDS.V', 'MUN.V', 'MDI.AX', 'MAE.V', 'TEN.V', 'HLX.AX', 'AGS.AX', 'LME.V', 'CTM.AX', 'RPX.V', 'MSR.AX', 'BAT.V', 'CTO.AX', 'MTU.V', 'RG.V', 'ECC.V', 'IO.V', 'GGA.TO', 'CSQ.V']\n"
     ]
    }
   ],
   "source": [
    "#Where tickers comes from\n",
    "goldStocksUrl = \"http://www.miningfeeds.com/gold-mining-report-all-countries\"\n",
    "\n",
    "def goldStockParser(url, tickerColumn, stockTypes):\n",
    "    response = requests.get(url)\n",
    "    soup = BeautifulSoup(response.text, \"lxml\")\n",
    "    table = soup.find(\"table\")\n",
    "    tickers = []\n",
    "    for row in table.findAll(\"tr\")[1:]:\n",
    "        ticker = row.findAll(\"td\")[tickerColumn].text\n",
    "        #Randgold real ticker.\n",
    "        if (ticker == \"GOLD.L\"):\n",
    "            ticker = \"GOLD\"\n",
    "        tickers.append(ticker)\n",
    "\n",
    "    with open(stockTypes + \".pickle\", \"wb\") as file:\n",
    "        pickle.dump(tickers, file)\n",
    "\n",
    "    return tickers\n",
    "\n",
    "def pickleLoader(stockTypes):\n",
    "    with open(stockTypes + \".pickle\", \"rb\") as file:\n",
    "        return pickle.load(file)\n",
    "\n",
    "#Look in cache if False, go to website if true.    \n",
    "reloadGoldTickers = False\n",
    "\n",
    "badDataStocks = [\"GLF.AX\", \"AZ.TO\"]\n",
    "goldStockTickers = []\n",
    "\n",
    "if reloadGoldTickers:\n",
    "    goldStockTickers = goldStockParser(goldStocksUrl, 2, \"goldStocks\")\n",
    "else:\n",
    "    goldStockTickers = pickleLoader(\"goldStocks\")\n",
    "\n",
    "#Remove stocks with bad data.    \n",
    "for ticker in badDataStocks:\n",
    "    goldStockTickers.remove(ticker)\n",
    "    \n",
    "print(goldStockTickers)"
   ]
  },
  {
   "cell_type": "code",
   "execution_count": null,
   "metadata": {},
   "outputs": [],
   "source": []
  }
 ],
 "metadata": {
  "kernelspec": {
   "display_name": "Python 3",
   "language": "python",
   "name": "python3"
  },
  "language_info": {
   "codemirror_mode": {
    "name": "ipython",
    "version": 3
   },
   "file_extension": ".py",
   "mimetype": "text/x-python",
   "name": "python",
   "nbconvert_exporter": "python",
   "pygments_lexer": "ipython3",
   "version": "3.6.7"
  }
 },
 "nbformat": 4,
 "nbformat_minor": 2
}
